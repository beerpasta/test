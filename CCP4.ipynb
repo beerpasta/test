{
  "nbformat": 4,
  "nbformat_minor": 0,
  "metadata": {
    "colab": {
      "name": "CCP4.ipynb",
      "provenance": [],
      "collapsed_sections": [],
      "toc_visible": true,
      "include_colab_link": true
    },
    "kernelspec": {
      "name": "python3",
      "display_name": "Python 3"
    },
    "accelerator": "GPU"
  },
  "cells": [
    {
      "cell_type": "markdown",
      "metadata": {
        "id": "view-in-github",
        "colab_type": "text"
      },
      "source": [
        "<a href=\"https://colab.research.google.com/github/beerpasta/test/blob/master/CCP4.ipynb\" target=\"_parent\"><img src=\"https://colab.research.google.com/assets/colab-badge.svg\" alt=\"Open In Colab\"/></a>"
      ]
    },
    {
      "cell_type": "code",
      "metadata": {
        "id": "WXPBAKhI4tUS",
        "colab_type": "code",
        "outputId": "49dd9fd0-90b0-43bf-f202-973eed320ad4",
        "colab": {
          "base_uri": "https://localhost:8080/",
          "height": 289
        }
      },
      "source": [
        "from google.colab import drive\n",
        "drive.mount('/content/drive')\n",
        "! pip install mrcfile biopython"
      ],
      "execution_count": 0,
      "outputs": [
        {
          "output_type": "stream",
          "text": [
            "Go to this URL in a browser: https://accounts.google.com/o/oauth2/auth?client_id=947318989803-6bn6qk8qdgf4n4g3pfee6491hc0brc4i.apps.googleusercontent.com&redirect_uri=urn%3aietf%3awg%3aoauth%3a2.0%3aoob&response_type=code&scope=email%20https%3a%2f%2fwww.googleapis.com%2fauth%2fdocs.test%20https%3a%2f%2fwww.googleapis.com%2fauth%2fdrive%20https%3a%2f%2fwww.googleapis.com%2fauth%2fdrive.photos.readonly%20https%3a%2f%2fwww.googleapis.com%2fauth%2fpeopleapi.readonly\n",
            "\n",
            "Enter your authorization code:\n",
            "··········\n",
            "Mounted at /content/drive\n",
            "Collecting mrcfile\n",
            "\u001b[?25l  Downloading https://files.pythonhosted.org/packages/79/aa/52aa135830f66259783207021849a8234551fc5e3db15f685201cb3d1bfa/mrcfile-1.1.2-py2.py3-none-any.whl (41kB)\n",
            "\u001b[K     |████████████████████████████████| 51kB 2.8MB/s \n",
            "\u001b[?25hCollecting biopython\n",
            "\u001b[?25l  Downloading https://files.pythonhosted.org/packages/83/3d/e0c8a993dbea1136be90c31345aefc5babdd5046cd52f81c18fc3fdad865/biopython-1.76-cp36-cp36m-manylinux1_x86_64.whl (2.3MB)\n",
            "\u001b[K     |████████████████████████████████| 2.3MB 12.6MB/s \n",
            "\u001b[?25hRequirement already satisfied: numpy>=1.11.0 in /usr/local/lib/python3.6/dist-packages (from mrcfile) (1.17.4)\n",
            "Installing collected packages: mrcfile, biopython\n",
            "Successfully installed biopython-1.76 mrcfile-1.1.2\n"
          ],
          "name": "stdout"
        }
      ]
    },
    {
      "cell_type": "code",
      "metadata": {
        "id": "jPmUxEGYMT8F",
        "colab_type": "code",
        "outputId": "c1e8e650-400d-4e84-e87c-965a2772a50a",
        "colab": {
          "base_uri": "https://localhost:8080/",
          "height": 35
        }
      },
      "source": [
        "cd drive/'My Drive'/ccp4"
      ],
      "execution_count": 0,
      "outputs": [
        {
          "output_type": "stream",
          "text": [
            "/content/drive/My Drive/ccp4\n"
          ],
          "name": "stdout"
        }
      ]
    },
    {
      "cell_type": "code",
      "metadata": {
        "id": "LtbtKbXXLBXC",
        "colab_type": "code",
        "colab": {}
      },
      "source": [
        "! python infrate.py 6ncu"
      ],
      "execution_count": 0,
      "outputs": []
    },
    {
      "cell_type": "code",
      "metadata": {
        "id": "ZPu8kSy6La-v",
        "colab_type": "code",
        "colab": {}
      },
      "source": [
        "! python gentrain.py 6ncuB"
      ],
      "execution_count": 0,
      "outputs": []
    },
    {
      "cell_type": "markdown",
      "metadata": {
        "id": "Oa-1qFhGQpeG",
        "colab_type": "text"
      },
      "source": [
        "### Welcom to training data converter.\n",
        "\n",
        "protein   : 6ncuB\n",
        "parameter : (512, 11, 1.0, 1.0, False, False)\n",
        "rot angles: -179.9 <-->  180.0\n",
        "residues  : 16\n",
        "boxes/res : 512\n",
        "total data: 8192\n",
        "box shape : (11, 11, 11)\n",
        "shrink to : (11, 11, 11)\n",
        "data reduction and collection start\n",
        "************************************************** 100% \n",
        "randomization start\n",
        "samples:0  ramdomlist:8192\n",
        "saved to [6ncuB_tr.npy] \n",
        "\n",
        "## sample num: 8192"
      ]
    },
    {
      "cell_type": "code",
      "metadata": {
        "id": "Qm_jQ5JT5OHt",
        "colab_type": "code",
        "outputId": "96d5e5ba-e917-4b22-903e-2a315952db19",
        "colab": {
          "base_uri": "https://localhost:8080/",
          "height": 125
        }
      },
      "source": [
        "! python nntrain_ae.py 6ncuA"
      ],
      "execution_count": 0,
      "outputs": [
        {
          "output_type": "stream",
          "text": [
            "device  : cuda\n",
            "teacher : 6553\n",
            "test    : 1639\n",
            "name    : 6ncuA_gpu\n",
            "1-layer : 1331\n",
            " 99999  0.00440   "
          ],
          "name": "stdout"
        }
      ]
    },
    {
      "cell_type": "code",
      "metadata": {
        "id": "xb4trjsYSnfS",
        "colab_type": "code",
        "outputId": "67c42679-c9c1-4685-de77-ddc01750d07e",
        "colab": {
          "base_uri": "https://localhost:8080/",
          "height": 374
        }
      },
      "source": [
        "! python nntest.py "
      ],
      "execution_count": 0,
      "outputs": [
        {
          "output_type": "stream",
          "text": [
            "data file [3u6fB_tr.npy] loaded.\n",
            "18022 4506\n",
            "model : 3u6fA_gpu\n",
            "Sequential(\n",
            "  (0): Dropout(p=0.5, inplace=False)\n",
            "  (1): Linear(in_features=1331, out_features=256, bias=True)\n",
            "  (2): ReLU()\n",
            "  (3): Dropout(p=0.5, inplace=False)\n",
            "  (4): Linear(in_features=256, out_features=64, bias=True)\n",
            "  (5): ReLU()\n",
            "  (6): Dropout(p=0.5, inplace=False)\n",
            "  (7): Linear(in_features=64, out_features=2, bias=True)\n",
            "  (8): LogSoftmax()\n",
            ")\n",
            "\n",
            "correct anser ratio (%)\n",
            "------------------------\n",
            "h    97.7  3208 / 3284\n",
            "s    86.6  1058 / 1222\n",
            "\n",
            "Overall 94.7%  4266 / 4506\n"
          ],
          "name": "stdout"
        }
      ]
    },
    {
      "cell_type": "code",
      "metadata": {
        "id": "iiH-h9PqfxiG",
        "colab_type": "code",
        "outputId": "794510b0-468d-40f1-8c39-5645dc33dc78",
        "colab": {
          "base_uri": "https://localhost:8080/",
          "height": 647
        }
      },
      "source": [
        "! python nntrain_gpu.py 6ncuA"
      ],
      "execution_count": 0,
      "outputs": [
        {
          "output_type": "stream",
          "text": [
            "data file loaded.\n",
            "id: s  box: (11, 11, 11)\n",
            "819 205\n",
            "cuda\n",
            "{'s': 0, 'h': 1}\n",
            "819\n",
            "data num   : 819\n",
            "data type  : (1331,) <class 'numpy.ndarray'>\n",
            "data len   : 1331\n",
            "1st data   : 0.0\n",
            "labels     : [0, 0, 0, 0, 1, 0, 1, 0, 0, 0] ...\n",
            "label max  : 1\n",
            "Sequential(\n",
            "  (0): Linear(in_features=1331, out_features=256, bias=True)\n",
            "  (1): ReLU()\n",
            "  (2): Dropout(p=0.2, inplace=False)\n",
            "  (3): Linear(in_features=256, out_features=128, bias=True)\n",
            "  (4): ReLU()\n",
            "  (5): Dropout(p=0.2, inplace=False)\n",
            "  (6): Linear(in_features=128, out_features=64, bias=True)\n",
            "  (7): ReLU()\n",
            "  (8): Dropout(p=0.2, inplace=False)\n",
            "  (9): Linear(in_features=64, out_features=2, bias=True)\n",
            "  (10): LogSoftmax()\n",
            ")\n",
            "0 Training loss: 0.36425262317061424\n",
            "1 Training loss: 0.2457248643040657\n",
            "2 Training loss: 0.1924779981906925\n",
            "3 Training loss: 0.10715184254305703\n",
            "4 Training loss: 0.09443044232986202\n",
            "5 Training loss: 0.07649970673498631\n",
            "6 Training loss: 0.05224258350686536\n",
            "7 Training loss: 0.02571842786086823\n",
            "8 Training loss: 0.05390902921499219\n",
            "9 Training loss: 0.009096343531252517\n"
          ],
          "name": "stdout"
        }
      ]
    }
  ]
}